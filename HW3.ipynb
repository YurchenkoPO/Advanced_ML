{
 "cells": [
  {
   "cell_type": "code",
   "execution_count": 1,
   "metadata": {},
   "outputs": [],
   "source": [
    "import pandas as pd\n",
    "import numpy as np\n",
    "import matplotlib as mpl\n",
    "import matplotlib.pyplot as plt\n",
    "import seaborn as sns\n",
    "import re\n",
    "import random\n",
    "import string\n",
    "from matplotlib.collections import LineCollection\n",
    "import warnings\n",
    "warnings.filterwarnings('ignore')\n",
    "from collections import OrderedDict\n",
    "from time import time\n",
    "import scipy as sp\n",
    "\n",
    "from scipy.optimize import fmin_powell\n",
    "from scipy import integrate\n",
    "from scipy import linalg\n",
    "\n",
    "from sklearn.preprocessing import normalize\n",
    "from sklearn import linear_model\n",
    "from sklearn.utils.testing import ignore_warnings\n",
    "from sklearn.exceptions import ConvergenceWarning\n",
    "\n",
    "np.set_printoptions(precision=4, suppress=True)\n",
    "\n",
    "from collections import Counter\n",
    "from Levenshtein import distance as levenshtein_distance\n",
    "\n",
    "sns.set_style(\"whitegrid\")\n",
    "sns.set_palette(\"colorblind\")\n",
    "palette = sns.color_palette()\n",
    "figsize = (15,8)\n",
    "legend_fontsize = 16\n",
    "\n",
    "from matplotlib import rc\n",
    "rc('font',**{'family':'sans-serif'})\n",
    "rc('figure', **{'dpi' : 200})"
   ]
  },
  {
   "cell_type": "markdown",
   "metadata": {},
   "source": [
    "# 1. \n",
    "\n",
    "Возьмем корпуса \"Войны и мира\" на русском и английском и посчитаем на них частоты букв. Будем разделять языки - мы не хотим, чтобы при расшифровке в словах оказывались буквы из разных языков. "
   ]
  },
  {
   "cell_type": "code",
   "execution_count": 18,
   "metadata": {},
   "outputs": [],
   "source": [
    "def preprocessing(text):\n",
    "    text = text.translate(str.maketrans('', '', string.punctuation)).lower()\n",
    "    text = re.sub(r'\\n{1,}', ' ', text)\n",
    "    text = re.sub(r'\\r{1,}', ' ', text)\n",
    "    text = re.sub(r'\\t{1,}', ' ', text)\n",
    "    text = re.sub(r'[–—]', '', text)\n",
    "    text = re.sub(r'\\d', '', text)\n",
    "    text = re.sub(r' {1,}', ' ', text)\n",
    "    return text\n",
    "\n",
    "with open('WarAndPeace.txt', 'r') as fin:\n",
    "    corpus_ru = fin.read()\n",
    "    corpus_ru = preprocessing(corpus_ru)\n",
    "\n",
    "with open('WarAndPeaceEng.txt', 'r') as fin:\n",
    "    corpus_en = fin.read()\n",
    "    corpus_en = preprocessing(corpus_en)"
   ]
  },
  {
   "cell_type": "code",
   "execution_count": 40,
   "metadata": {},
   "outputs": [],
   "source": [
    "ru = 'абвгдеёжзийклмнопрстуфхцчшщъыьэюя '\n",
    "en = 'abcdefghijklmnopqrstuvwxyz '\n",
    "\n",
    "def count_freq(text, n, lang=ru):\n",
    "    if n == 1:\n",
    "        ans = Counter([a for a in text if a in lang])\n",
    "    elif n == 2:\n",
    "        ans = Counter([text[i:i + n] for i in range(len(text) - n + 1) if (text[i:i + n][0] in lang and text[i:i + n][1] in lang)])\n",
    "    else:\n",
    "        raise NotImplementedError()\n",
    "    return ans"
   ]
  },
  {
   "cell_type": "code",
   "execution_count": 41,
   "metadata": {},
   "outputs": [],
   "source": [
    "letter_freq_ru = count_freq(corpus_ru, n=1, lang=ru)\n",
    "letter_freq_en = count_freq(corpus_en, n=1, lang=en)"
   ]
  },
  {
   "cell_type": "code",
   "execution_count": 81,
   "metadata": {},
   "outputs": [
    {
     "data": {
      "text/plain": [
       "Counter({' ': 109517,\n",
       "         'в': 24824,\n",
       "         'о': 61282,\n",
       "         'й': 6210,\n",
       "         'н': 35119,\n",
       "         'а': 45209,\n",
       "         'и': 35838,\n",
       "         'м': 15940,\n",
       "         'р': 24570,\n",
       "         'с': 28128,\n",
       "         'ы': 10233,\n",
       "         'з': 9602,\n",
       "         'е': 42519,\n",
       "         'т': 30619,\n",
       "         'л': 27277,\n",
       "         'ь': 10498,\n",
       "         'к': 19328,\n",
       "         'ч': 7349,\n",
       "         'г': 11177,\n",
       "         'д': 16387,\n",
       "         'у': 15454,\n",
       "         'п': 13847,\n",
       "         'я': 12477,\n",
       "         'ж': 5460,\n",
       "         'б': 9310,\n",
       "         'щ': 1514,\n",
       "         'ф': 1209,\n",
       "         'э': 1629,\n",
       "         'х': 4600,\n",
       "         'ю': 3495,\n",
       "         'ш': 5090,\n",
       "         'ц': 2179,\n",
       "         'ё': 431,\n",
       "         'ъ': 283})"
      ]
     },
     "execution_count": 81,
     "metadata": {},
     "output_type": "execute_result"
    }
   ],
   "source": [
    "letter_freq_ru"
   ]
  },
  {
   "cell_type": "code",
   "execution_count": 42,
   "metadata": {},
   "outputs": [],
   "source": [
    "def make_encryption(text):\n",
    "    text = preprocessing(text)\n",
    "    alphabet = list(set(text))\n",
    "    shuffled_alphabet = alphabet.copy()\n",
    "    random.shuffle(shuffled_alphabet)\n",
    "    encryption_rule = dict(zip(alphabet, shuffled_alphabet))\n",
    "    return ''.join([encryption_rule[a] for a in text])"
   ]
  },
  {
   "cell_type": "markdown",
   "metadata": {},
   "source": [
    "Возьмем несколько абзацев текста из русскоязычной и англоязычной википедии и зашифруем их. Для расшифровки будем считать частоту вхождения униграмм и сопоставлять с частотой вхождения этих же униграмм в наши корпуса. Предположение: частоты встречаемости одинаковых букв будут пропорциональны.\n",
    "\n",
    "В английском языке меньше букв, чем в русском, значит найти соответствие будет проще. Можем сразу предположить, что качество расшифровки русских сообщений будет хуже."
   ]
  },
  {
   "cell_type": "code",
   "execution_count": 43,
   "metadata": {},
   "outputs": [],
   "source": [
    "test = '←⇠⇒↟↹↷⇊↹↷↟↤↟↨←↹↝⇛⇯↳⇴⇒⇈↝⇊↾↹↟⇒↟↹⇷⇛⇞↨↟↹↝⇛⇯↳⇴⇒⇈↝⇊↾↹↨←⇌⇠↨↹⇙↹⇸↨⇛↙⇛↹⇠⇛⇛↲⇆←↝↟↞↹⇌⇛↨⇛⇯⇊↾↹⇒←↙⇌⇛↹⇷⇯⇛⇞↟↨⇴↨⇈↹⇠⇌⇛⇯←←↹↷⇠←↙⇛↹↷⇊↹↷⇠←↹⇠↤←⇒⇴⇒↟↹⇷⇯⇴↷↟⇒⇈↝⇛↹↟↹⇷⇛⇒⇙⇞↟↨←↹↳⇴⇌⇠↟↳⇴⇒⇈↝⇊↾↹↲⇴⇒⇒↹⇰⇴↹⇷⇛⇠⇒←↤↝←←↹⇞←↨↷←⇯↨⇛←↹⇰⇴↤⇴↝↟←↹⇌⇙⇯⇠⇴↹↘⇛↨↞↹⇌⇛↝←⇞↝⇛↹↞↹↝↟⇞←↙⇛↹↝←↹⇛↲←⇆⇴⇏'\n",
    "\n",
    "\n",
    "test_ru = '''Матрёшка — русская деревянная игрушка в виде расписной куклы, внутри которой находятся подобные ей куклы меньшего размера.\n",
    "Число вложенных кукол — обычно три и более. Обычно имеют форму яйца с плоским донцем и состоят из двух разъёмных частей, верхней и нижней.\n",
    "На традиционных матрёшках изображена женщина в красном сарафане и платке. В наше время темы для росписи разнообразны: сказочные персонажи,\n",
    "девушки, а также семьи. Стали нередки и матрёшки пародийного характера с изображением политических деятелей. Сравнительно недавно стала\n",
    "набирать популярность матрёшка с изображением портрета — портретная матрёшка. Сейчас матрёшки делают в различных мастерских.\n",
    "Сначала подбирают подходящий вид древесины. Из-за мягкости в основном выбирают липу, реже ольху или берёзу. Деревья обычно\n",
    "срубают ранней весной, снимают кору, но не полностью, чтобы во время сушки древесина не давала трещин. Затем брёвна складируют и сушат\n",
    "в течение нескольких лет в хорошо вентилируемом месте. Древесина может заготавливаться в регионе изготовления или быть завозной.\n",
    "К обработке древесины необходимо приступать тогда, когда она не сухая, но и не сырая. Каждая заготовка проходит более десятка операций.\n",
    "Самую маленькую куклу делают первой.\n",
    "Когда матрёшка готова, приступают к следующей фигурке, в которую войдёт первая. Заготовка необходимой высоты обрабатывается\n",
    "и разрезается на верхнюю и нижнюю части. Первой делается нижняя часть. Затем удаляют древесину изнутри обеих частей второй куклы так,\n",
    "чтобы меньшая кукла плотно вставлялась внутрь. Потом процесс повторяется для куклы большего размера, в которую войдут две предыдущие и т. д.\n",
    "Количество кукол может быть различным. В заключение процесса каждую куклу покрывают масляным лаком.\n",
    "После окончательной сушки и полировки художник приступает к раскраске. В качестве красок используется акварель, гуашь, темпера,\n",
    "реже масляные краски. Несмотря на разнообразие красок, мастера по-прежнему отдают предпочтение гуаши.'''\n",
    "\n",
    "encrypted_test_ru = make_encryption(test_ru)"
   ]
  },
  {
   "cell_type": "code",
   "execution_count": 44,
   "metadata": {},
   "outputs": [],
   "source": [
    "test_en = '''Coffee is a brewed drink prepared from roasted coffee beans, the seeds of berries from certain Coffea species.\n",
    "When coffee berries turn from green to bright red in color – indicating ripeness – they are picked, processed, and dried.\n",
    "Dried coffee seeds (referred to as \"beans\") are roasted to varying degrees, depending on the desired flavor.\n",
    "Roasted beans are ground and then brewed with near-boiling water to produce the beverage known as coffee.\n",
    "Coffee is darkly colored, bitter, slightly acidic and has a stimulating effect in humans, primarily due to its caffeine content.\n",
    "It is one of the most popular drinks in the world, and can be prepared and presented in a variety of ways.\n",
    "It is usually served hot, although chilled or iced coffee is common. Sugar, sugar substitutes, milk or cream are often\n",
    "used to lessen the bitter taste. It may be served with coffee cake or another sweet dessert like doughnuts.\n",
    "A commercial establishment that sells prepared coffee beverages is known as a coffee shop\n",
    "(not to be confused with Dutch coffeeshops selling cannabis).\n",
    "Clinical research indicates that moderate coffee consumption is benign or mildly beneficial as a stimulant in healthy adults,\n",
    "with continuing research on whether long-term consumption reduces the risk of some diseases, although some of the long-term\n",
    "studies are of questionable credibility.'''\n",
    "\n",
    "encrypted_test_en = make_encryption(test_en)"
   ]
  },
  {
   "cell_type": "code",
   "execution_count": 45,
   "metadata": {},
   "outputs": [
    {
     "name": "stdout",
     "output_type": "stream",
     "text": [
      "RU EXAMPLE:  ъщфсёйъшфнььйъяшвафауяччъяшорфнёйъшушуовашфъьгоьчждшйнйюишучнщфошйжщжфждшчъежвящьяшгжвжзчиашадшйнйюиш ачлёаржшфът афъшбоьюжшуюжцаччиешйнйжюшжзибчжшщфошошзжюаашжзибчжшо амщшхжф ншядыъшьшгюжьйо швжчыа шошьжьщжящшотшвунешфътпс чиешбъьщадшуафечадшошчоцчадшчъшщфъвоыожччиеш ъщфсёйъешотжзфъцачъшцачкочъшушйфъьчж шьъфъхъчашошгюъщйашушчъёашуфа яшща ишвюяшфжьгоьошфътчжжзфътчишьйътжбчиашгафьжчъцошваунёйошъшщъйцашьа лошьщъюошчафавйошош ъщфсёйошгъфжводчжржшеъфъйщафъшьшотжзфъцачоа шгжюощобаьйоешваящаюадшьфъучощаюлчжшчавъучжшьщъюъшчъзофъщлшгжгнюяфчжьщлш ъщфсёйъшьшотжзфъцачоа шгжфщфащъшгжфщфащчъяш ъщфсёйъшьадбъьш ъщфсёйошваюъмщшушфътюобчиеш ъьщафьйоешьчъбъюъшгжвзофъмщшгжвежвякодшуовшвфауаьочишоттъш ярйжьщошушжьчжучж шуизофъмщшюогншфацашжюленшоюошзафстншвафауляшжзибчжшьфнзъмщшфъччадшуаьчждшьчо ъмщшйжфншчжшчашгжючжьщлмшбщжзишужшуфа яшьнёйошвфауаьочъшчашвъуъюъшщфакочштъща шзфсучъшьйюъвофнмщшошьнёъщшушщабачоашчаьйжюлйоешюащшушежфжёжшуачщоюофна ж ш аьщашвфауаьочъш жцащштържщъуюоуъщльяшушфарожчашотржщжуюачояшоюошзищлштъужтчждшйшжзфъзжщйашвфауаьочишчажзежво жшгфоьщнгъщлшщжрвъшйжрвъшжчъшчашьнеъяшчжшошчашьифъяшйъцвъяштържщжуйъшгфжежвощшзжюаашваьящйъшжгафъыодшьъ нмш ъюачлйнмшйнйюншваюъмщшгафуждшйжрвъш ъщфсёйъшржщжуъшгфоьщнгъмщшйшьюавнмкадшхорнфйашушйжщжфнмшуждвсщшгафуъяштържщжуйъшчажзежво ждшуиьжщишжзфъзъщиуъащьяшошфътфатъащьяшчъшуафечммшошчоцчммшбъьщошгафуждшваюъащьяшчоцчяяшбъьщлштъща шнвъюямщшвфауаьочншотчнщфошжзаоешбъьщадшущжфждшйнйюишщъйшбщжзиш ачлёъяшйнйюъшгюжщчжшуьщъуюяюъьлшучнщфлшгжщж шгфжыаььшгжущжфяащьяшвюяшйнйюишзжюлёаржшфът афъшушйжщжфнмшуждвнщшвуашгфавивнкоашошщшвшйжюобаьщужшйнйжюш жцащшзищлшфътюобчи шуштъйюмбачоашгфжыаььъшйъцвнмшйнйюншгжйфиуъмщш ъьюячи шюъйж шгжьюашжйжчбъщаюлчждшьнёйошошгжюофжуйошенвжцчойшгфоьщнгъащшйшфъьйфъьйашушйъбаьщуашйфъьжйшоьгжюлтнащьяшъйуъфаюлшрнъёлшща гафъшфацаш ъьюячиашйфъьйошчаь жщфяшчъшфътчжжзфътоашйфъьжйш ъьщафъшгжгфацча ншжщвъмщшгфавгжбщачоашрнъёо\n",
      "\n",
      "EN EXAMPLE: c ttiibmwbubagikilblgmqybogiougilbtg sbg uwrilbc ttiibaiuqwbrvibwiilwb tbaiggmiwbtg sbcigrumqbc ttiubwoicmiwbkviqbc ttiibaiggmiwbrhgqbtg sbdgiiqbr bagmdvrbgilbmqbc f gbmqlmcurmqdbgmoiqiwwbrvinbugibomcyilbog ciwwilbuqlblgmilblgmilbc ttiibwiilwbgitiggilbr buwbaiuqwbugibg uwrilbr beugnmqdblidgiiwblioiqlmqdb qbrvibliwmgilbtfue gbg uwrilbaiuqwbugibdg hqlbuqlbrviqbagikilbkmrvbqiuga mfmqdbkurigbr bog lhcibrvibaieigudibyq kqbuwbc ttiibc ttiibmwblugyfnbc f gilbamrrigbwfmdvrfnbucmlmcbuqlbvuwbubwrmshfurmqdbitticrbmqbvhsuqwbogmsugmfnblhibr bmrwbcuttimqibc qriqrbmrbmwb qib tbrvibs wrbo ohfugblgmqywbmqbrvibk gflbuqlbcuqbaibogiougilbuqlbogiwiqrilbmqbubeugmirnb tbkunwbmrbmwbhwhuffnbwigeilbv rbufrv hdvbcvmffilb gbmcilbc ttiibmwbc ss qbwhdugbwhdugbwhawrmrhriwbsmfyb gbcgiusbugib triqbhwilbr bfiwwiqbrvibamrrigbruwribmrbsunbaibwigeilbkmrvbc ttiibcuyib gbuq rvigbwkiirbliwwigrbfmyibl hdvqhrwbubc ssigcmufbiwruafmwvsiqrbrvurbwiffwbogiougilbc ttiibaieigudiwbmwbyq kqbuwbubc ttiibwv obq rbr baibc qthwilbkmrvblhrcvbc ttiiwv owbwiffmqdbcuqquamwbcfmqmcufbgiwiugcvbmqlmcuriwbrvurbs liguribc ttiibc qwhsorm qbmwbaiqmdqb gbsmflfnbaiqitmcmufbuwbubwrmshfuqrbmqbviufrvnbulhfrwbkmrvbc qrmqhmqdbgiwiugcvb qbkvirvigbf qdrigsbc qwhsorm qbgilhciwbrvibgmwyb tbw siblmwiuwiwbufrv hdvbw sib tbrvibf qdrigsbwrhlmiwbugib tbphiwrm quafibcgilmamfmrn\n"
     ]
    }
   ],
   "source": [
    "print('RU EXAMPLE: ' + encrypted_test_ru + '\\n')\n",
    "print('EN EXAMPLE: ' + encrypted_test_en)"
   ]
  },
  {
   "cell_type": "code",
   "execution_count": 46,
   "metadata": {},
   "outputs": [],
   "source": [
    "def make_decryption(text, frequences, n, lang=ru, real_text=None):\n",
    "    new_freqs = count_freq(text, n, lang)\n",
    "    \n",
    "    length = len(new_freqs)\n",
    "    if length > len(frequences):\n",
    "        return 'Size of the alphabet is smaller than amount letters in test text.'\n",
    "    new_freqs = new_freqs.most_common()\n",
    "    frequences = frequences.most_common(length)\n",
    "    decryption_rule = dict(\n",
    "                                zip(\n",
    "                                        [k for k, v in new_freqs],\n",
    "                                        [k for k, v in frequences]\n",
    "                                    )\n",
    "                            )\n",
    "    if n == 1:\n",
    "        ans = ''.join([decryption_rule[a] for a in text])\n",
    "    elif n == 2:\n",
    "        bigrams = [text[i:i + n] for i in range(0, len(text) - n + 1, 2)]\n",
    "        ans = ''.join([decryption_rule[a] for a in bigrams])\n",
    "    else:\n",
    "        raise NotImplementedError()\n",
    "        \n",
    "    if real_text:\n",
    "        real_text = preprocessing(real_text)\n",
    "        if np.array(list(ans)).shape != np.array(list(real_text)).shape:\n",
    "            real_text = real_text[:-1]\n",
    "        print(f'Accuracy = {round(sum(np.array(list(ans)) == np.array(list(real_text))) / len(list(ans)), 3)}')\n",
    "    return ans"
   ]
  },
  {
   "cell_type": "code",
   "execution_count": 47,
   "metadata": {},
   "outputs": [
    {
     "name": "stdout",
     "output_type": "stream",
     "text": [
      "Accuracy = 0.196\n"
     ]
    },
    {
     "data": {
      "text/plain": [
       "'уоницшво идллвоя маиаряссоя тюидшво р ртма иолптлсез вдвкг рсднит венеиез сойемянля пемеысга аз вдвкг уасчшаюе иоьуаио жтлке ркехассгй вдвек еыгжсе нит т ыекаа еыгжсе туабн феиуд язэо л пкелвту месэау т лелнеян ть мрдй иоьёцусгй жолназ раийсаз т стхсаз со ниомтэтессгй уоницшвой тьеыиохасо хасщтсо р виолсеу лоиофоса т пконва р соша риауя науг мкя иелптлт иоьсееыиоьсг лвоьежсга паилесохт мардшвт о новха лаучт лнокт саиамвт т уоницшвт поиемтзсеюе йоиовнаио л тьеыиохастау пектнтжалвтй маянаказ лиорстнакчсе саморсе лноко соытионч пепдкяиселнч уоницшво л тьеыиохастау пеиниано пеиниансоя уоницшво лазжол уоницшвт макобн р иоьктжсгй уолнаилвтй лсожоко пемытиобн пемйемящтз ртм миаралтсг тььо уяювелнт р елсерсеу ргытиобн ктпд иаха екчйд ткт ыаицьд маиарчя еыгжсе лидыобн иоссаз ралсез лстуобн веид се са пекселнчб жнеыг ре риауя лдшвт миаралтсо са мороко ниащтс ьонау ыицрсо лвкомтидбн т лдшон р нажаста салвекчвтй кан р йеиеше раснтктидауеу уална миаралтсо уехан ьоюенорктрончля р иаютеса тьюенеркастя ткт ыгнч ьореьсез в еыиоыенва миаралтсг саеыйемтуе питлндпонч неюмо веюмо есо са лдйоя се т са лгиоя вохмоя ьоюенерво пиейемтн ыекаа малянво епаиоэтз лоудб уокасчвдб вдвкд макобн паирез веюмо уоницшво юенеро питлндпобн в лкамдбщаз фтюдива р венеидб резмцн паироя ьоюенерво саеыйемтуез ргленг еыиоыонгроанля т иоьиаьоанля со раийсбб т стхсбб жолнт паирез макоанля стхсяя жолнч ьонау дмокябн миаралтсд тьсднит еыатй жолназ рнеиез вдвкг нов жнеыг уасчшоя вдвко пкенсе рлноркяколч рсднич пенеу пиеэалл пернеияанля мкя вдвкг ыекчшаюе иоьуаио р венеидб резмдн мра пиамгмдщта т н м вектжалнре вдвек уехан ыгнч иоьктжсгу р ьовкбжаста пиеэалло вохмдб вдвкд певигробн уолкясгу ковеу пелка евесжонакчсез лдшвт т пектиервт йдмехств питлндпоан в иолвиолва р вожалнра виолев тлпекчьданля овроиакч юдошч наупаио иаха уолкясга виолвт салуения со иоьсееыиоьта виолев уолнаио пепиахсауд енмобн пиампежнаста юдошт'"
      ]
     },
     "execution_count": 47,
     "metadata": {},
     "output_type": "execute_result"
    }
   ],
   "source": [
    "make_decryption(encrypted_test_ru, letter_freq_ru, 1, ru, test_ru)"
   ]
  },
  {
   "cell_type": "code",
   "execution_count": 48,
   "metadata": {},
   "outputs": [
    {
     "name": "stdout",
     "output_type": "stream",
     "text": [
      "Accuracy = 0.305\n"
     ]
    },
    {
     "data": {
      "text/plain": [
       "'dillee nt h foeper ronsv yoeyhoer loiw oihtaer dillee fehst aue teert il feoonet loiw deoahns dilleh tyednet pues dillee feoonet acos loiw goees ai fongua oer ns dimio nsrndhansg onyesett aueb hoe yndver yoidetter hsr roner roner dillee teert oeleooer ai ht fehst hoe oihtaer ai khobnsg regoeet reyesrnsg is aue retnoer lmhkio oihtaer fehst hoe goicsr hsr aues foeper pnau sehofinmnsg phaeo ai yoircde aue fekeohge vsips ht dillee dillee nt rhovmb dimioer fnaaeo tmnguamb hdnrnd hsr uht h tanwcmhansg elleda ns ucwhst yonwhonmb rce ai nat dhllense disaesa na nt ise il aue wita yiycmho ronsvt ns aue piomr hsr dhs fe yoeyhoer hsr yoetesaer ns h khoneab il phbt na nt ctchmmb teoker uia hmauicgu dunmmer io nder dillee nt diwwis tcgho tcgho tcftanacaet wnmv io doehw hoe ilaes cter ai mettes aue fnaaeo ahtae na whb fe teoker pnau dillee dhve io hsiaueo tpeea retteoa mnve ricguscat h diwweodnhm etahfmntuwesa auha temmt yoeyhoer dillee fekeohget nt vsips ht h dillee tuiy sia ai fe dislcter pnau rcadu dilleetuiyt temmnsg dhsshfnt dmnsndhm oetehodu nsrndhaet auha wireohae dillee distcwyanis nt fesngs io wnmrmb feselndnhm ht h tanwcmhsa ns uehmaub hrcmat pnau disanscnsg oetehodu is pueaueo misgaeow distcwyanis oercdet aue ontv il tiwe rntehtet hmauicgu tiwe il aue misgaeow tacrnet hoe il xcetanishfme doernfnmnab'"
      ]
     },
     "execution_count": 48,
     "metadata": {},
     "output_type": "execute_result"
    }
   ],
   "source": [
    "make_decryption(encrypted_test_en, letter_freq_en, 1, en, test_en)"
   ]
  },
  {
   "cell_type": "markdown",
   "metadata": {},
   "source": [
    "Можем заметить, что наш подход достаточно хорошо находит пробелы в тексте и еще некоторые часто встречающиеся буквы. Но для расшифровки этого еще недостаточно. Также мы верно предположили, что качество на английском языке будет заметно лучше.\n",
    "\n",
    "# 2.\n",
    "\n",
    "Проделаем то же самое для биграмм:"
   ]
  },
  {
   "cell_type": "code",
   "execution_count": 49,
   "metadata": {},
   "outputs": [],
   "source": [
    "bigram_freq_ru = count_freq(corpus_ru, 2, ru)\n",
    "bigram_freq_en = count_freq(corpus_en, 2, en)"
   ]
  },
  {
   "cell_type": "code",
   "execution_count": 86,
   "metadata": {},
   "outputs": [
    {
     "data": {
      "text/plain": [
       "[('о ', 13219),\n",
       " ('и ', 11355),\n",
       " ('а ', 10485),\n",
       " ('е ', 9971),\n",
       " (' с', 9847),\n",
       " (' п', 9750),\n",
       " (' в', 9591),\n",
       " (' н', 9300),\n",
       " ('то', 8491),\n",
       " (' о', 7671),\n",
       " ('я ', 7043),\n",
       " (' к', 7026),\n",
       " (' и', 6818),\n",
       " ('ст', 6671),\n",
       " ('ь ', 6548)]"
      ]
     },
     "execution_count": 86,
     "metadata": {},
     "output_type": "execute_result"
    }
   ],
   "source": [
    "bigram_freq_ru.most_common(15)"
   ]
  },
  {
   "cell_type": "code",
   "execution_count": 84,
   "metadata": {},
   "outputs": [
    {
     "name": "stdout",
     "output_type": "stream",
     "text": [
      "Amount of ru bigram: 794\n",
      "Amount of en bigram: 602\n"
     ]
    }
   ],
   "source": [
    "print(f'Amount of ru bigram: {len(bigram_freq_ru)}\\nAmount of en bigram: {len(bigram_freq_en)}')"
   ]
  },
  {
   "cell_type": "markdown",
   "metadata": {},
   "source": [
    "Теперь наши словари частот слишком большие, в тестовых текстах биграмм будет гораздо меньше, что затруднит расшифровку."
   ]
  },
  {
   "cell_type": "code",
   "execution_count": 50,
   "metadata": {},
   "outputs": [
    {
     "name": "stdout",
     "output_type": "stream",
     "text": [
      "Accuracy = 0.074\n"
     ]
    },
    {
     "data": {
      "text/plain": [
       "'олраойроколюривестал зоков нр ы в и отвшатконелыруел вскейа кнрае  тертенаовсяажс  нл икрьизвуна гогревссиглазкопрвсо быетыла ыл чслэт вскосламочекарае е ча е пй ожь товсу чианияаюайи  л я улионикушлотоя  уерботопипабакопрбиачэтбынем наванд бнае оркиод ии рамнапжислэтпоноомв бртоадемимени  чсуеси оттрнеь онкуо пл бто с мзн потовгла  култьлоред  нте жете о созьемпрния роадчеиз саливовучст зселиывтьма чя лоиря чтза иалпелитопоноомв е бетеннздшикаебо сёали  лмий о  чорло сосрытуволиилатбоегодя о обрыегехка басобкагодии овицо же сиййсщиь гок олраойроя тоадемиментионл ьн кчт санратаов нолраойроя одль лолраойлистег р оото уютуниилолгоалриляя овль м ст ицо у  ст сяажтвнавшекие звоесремиакпоё  тгое от уь об эа ояам р озажнкоят посянн усе смомашстал зчуламочекагаге р оо слода воь наруну р о ты  ика б сось гонцбыермоа каькло нидв е ие звоеси  бстмедии рацаесвинолодоомоби ри мнны у тоя сеноа тьытенти иво тнялиил е оотсятеыша енудзаы ло эповом ст кваисовпошетавилс дмезасьжедаа кодужи бтоаф дю  еор нусе можевиметяь нах й о чазн пие звоесре бй сяннар сныговннок ержаи  тжаи  аи  бя баве икае  бя ибве вимас наказереви дедьт рыдоосичствоборолааяо  хнакуиялеол еси гле гогн ат му  салитна тжаи олраойроош дю и деетгрбеу  вя  екркеодчир бядра  в данина елшл оаяочвевилс дю ро ивльет нуела мя дрей о ахтнсьтадатокопр кактада ии вандозлее оркиьсбынеуд салитнаат мтада иязцо нльгок акм онясдиьш оие звоесн микнрае й нсилльгоода ертена гогречтх шай ревссиха н гоги  я дь а гомеав мкта кнрак л ерондеузво лл гданьяс  нд  н гогречаняглазкопрвсо а  в данина елкр опа пдеперждятитотьст востувоыхка г тлуар ч оможекопрзачег а вимаухедор пдеузвоку вимкрле гогн л трял р оолвыокг сама э с у ела тьюноегехеля селито сосамю лиееясшеорх деетгрбета вконетрнедра  вуквоых птрнеспто жосырепс  нмась княошувтктьлоаяо коят полвыокиз во рие  бйн дае ии о созьемпрти во ивх олгоали л деят биялаьм р одепел шаентиошувшн'"
      ]
     },
     "execution_count": 50,
     "metadata": {},
     "output_type": "execute_result"
    }
   ],
   "source": [
    "make_decryption(encrypted_test_ru, bigram_freq_ru, 2, ru, test_ru)"
   ]
  },
  {
   "cell_type": "code",
   "execution_count": 51,
   "metadata": {},
   "outputs": [
    {
     "name": "stdout",
     "output_type": "stream",
     "text": [
      "Accuracy = 0.109\n"
     ]
    },
    {
     "data": {
      "text/plain": [
       "'t atr n  tleunulthngouni m ars ad ich aspe cthhe s ie g to tine edth t sy  oouanutf hol ghifert atorndsashanteonert atr y  oouan htuerich ry ais h runw frasthn ert elhi w nroarstasivisan tinags  a mneeed ofepanedd tod admed admed t atr ndr yoasur o ad a s  tg to tree f eshad a trreokstngga aanngomis nstenerine m ki ad spewntaspe cthy orris  aryf efd tod inisy  aaid iminnaorp extistteve o h rofevi e ine g owfobumi gtss  tt atr he s ie  fngreopset el ad ssvi ondticotlsermianes  pliess ndarpootarstpaatiro  wlietto tofdirellsewae a n wehev  i we t  liso itn  t be  s hon ecko yeciothiad wakn erine rnbyd tod roerg  m ars ad tod ofanishad  ws trremerteneaecaun o  ffecedewhnd oowd cho deinlycohedasithenhinethhe s ie  fheh laercetthicetthicedsarraha trdquenhiigorhoree  shaeremth h rldwiis hony ithahiie ce it eamy e edwothteit dt atr hesce nts  gin ondaioonganedghuspte awbeegov tlet av oshdepa c yticata l hpro edsi tofomrethhe s ie g owfobu t fmi gtss  tlet atr ndchft go a y e t nyemthteit dwacr dt atr caio tedsi walrocl y fheti krons aedreson  pnevean hpro lam fohahe s ie t rietsumoer fy isw ernt ellmsseg noueshdes  tle cdimatoo  wliorncfus wanc timinhe barpl wal aedresoenergeooonhielsthau he bce var basthi an honas fid sndh e  nedesans ncchbe deytaeneaine elsthau ndra nans  aeneamuanar b yldhe a nsstirt'"
      ]
     },
     "execution_count": 51,
     "metadata": {},
     "output_type": "execute_result"
    }
   ],
   "source": [
    "make_decryption(encrypted_test_en, bigram_freq_en, 2, en, test_en)"
   ]
  },
  {
   "cell_type": "markdown",
   "metadata": {},
   "source": [
    "Действительно, результат получился заметно хуже, теперь алгоритм ошибается даже на пробелах. Ну и скор это подтверждает.\n",
    "\n",
    "# 3. \n",
    "\n",
    "Применим метод обучения, основанный на MCMC-сэмплировании, который бы использовал применение биграмм.\n",
    "\n",
    "Пусть $x$ - вектор правил расшифровки.\n",
    "- Возьмем начальный вектор правил расшифровки случайно сопоставив символы зашифрованного сообщения буквам из алфавита. Если различных символов меньше, чем размер алфавита, то будем брать топ букв алфавита по встречаемости.\n",
    "- Далее будем сэмплировать $x$ из $q$, где $q(x, x^{(i)})$ - распределения правил, которые можно получить из правила $x^{(i)}$, поменяв местами 2 правила декодирования\n",
    "- Посчитаем частоты встречаемости биграмм в сообщении после применения полученного правила дешифровки и посчитаем правдоподобие:\n",
    "$$ L_x = \\prod_{a_1, a_2}R(a_1a_2)^{F_x(a_1a_2)}, $$\n",
    "где $R(a_1a_2)$ - количество вхождений биграммы $a_1a_2$ в обучающий текст, а $F_x(a_1a_2)$ - количество вхождений биграммы $a_1a_2$ в расшифрованное сообщение при помощи правила $x$.\n",
    "- Логарифм правдоподобия (в расчетах используем его):\n",
    "$$ log L_x = \\sum_{a_1, a_2}F_x(a_1a_2)logR(a_1a_2) $$\n",
    "- Далее с вероятностью a = $\\frac{L_{x_{new}}}{L_{x_{cur}}}$ (1, если a $\\geq$ 1) будем брать новое правило дешифровки."
   ]
  },
  {
   "cell_type": "code",
   "execution_count": 87,
   "metadata": {},
   "outputs": [],
   "source": [
    "def log_score(new_freqs, frequences):\n",
    "    score = 0\n",
    "    for k, v in new_freqs.items():\n",
    "        if k in frequences.keys():\n",
    "            score += v * np.log(frequences[k])\n",
    "    return score\n",
    "\n",
    "def change_decryption_rule_once(decryption_rule, lang):\n",
    "    changed = decryption_rule.copy()\n",
    "    i = random.randint(0, len(changed) - 1)\n",
    "    j = random.randint(0, len(changed) - 1)\n",
    "    keys = list(changed.keys()) \n",
    "    if i == j:\n",
    "        return change_decryption_rule_once(changed, lang)\n",
    "    else:\n",
    "        a = changed[keys[i]]\n",
    "        b = changed[keys[j]]\n",
    "        changed[keys[i]] = b\n",
    "        changed[keys[j]] = a\n",
    "        return changed\n",
    "\n",
    "def init_decryption_rule(text, lang):\n",
    "    alphabet = list(set(text))\n",
    "    if len(lang) > 30:\n",
    "        most_common_letters = letter_freq_ru.most_common(len(alphabet))\n",
    "    else:\n",
    "        most_common_letters = letter_freq_en.most_common(len(alphabet))\n",
    "    most_common_letters = [k for k,v in most_common_letters]\n",
    "    decryption_rule = dict(zip(alphabet, most_common_letters))\n",
    "    return decryption_rule\n",
    "\n",
    "def metropolis_hastings_log_accept(l, l_new):\n",
    "    if l_new > l:\n",
    "        return True\n",
    "    else:\n",
    "        return random.random() < np.exp(l_new-l)\n",
    "\n",
    "def MCMC_decryption(iterations, text, frequences, n, lang, real_text=None):\n",
    "    cur_decryption_rule = init_decryption_rule(text, lang)\n",
    "    decrypted_text = ''.join([cur_decryption_rule[a] for a in text])\n",
    "    cur_freqs = count_freq(decrypted_text, n, lang)\n",
    "    cur_score = log_score(cur_freqs, frequences)\n",
    "    for i in range(iterations):\n",
    "        new_decryption_rule = change_decryption_rule_once(cur_decryption_rule, lang)\n",
    "        new_decrypted_text = ''.join([new_decryption_rule[a] for a in text])\n",
    "        new_freqs = count_freq(new_decrypted_text, n, lang)\n",
    "        new_score = log_score(new_freqs, frequences)\n",
    "        \n",
    "        if metropolis_hastings_log_accept(cur_score, new_score):\n",
    "            cur_decryption_rule = new_decryption_rule\n",
    "            decrypted_text = new_decrypted_text\n",
    "            cur_score = new_score\n",
    "        if i%1000 == 0:\n",
    "            print(f'ITER {i}: score={round(cur_score, 3)} | {decrypted_text[:75]}')\n",
    "    \n",
    "    if real_text:\n",
    "        real_text = preprocessing(real_text)\n",
    "        print(f'Accuracy = {round(sum(np.array(list(decrypted_text)) == np.array(list(real_text))) / len(list(decrypted_text)), 3)}')\n",
    "    \n",
    "    return cur_decryption_rule, decrypted_text"
   ]
  },
  {
   "cell_type": "code",
   "execution_count": 92,
   "metadata": {},
   "outputs": [
    {
     "name": "stdout",
     "output_type": "stream",
     "text": [
      "ITER 0: score=7837.193 | cowwllpndpxpkrlyl p rnegpirlixrl pwrosproxdvl pcowwllpklxedpvtlpdll dpowpkl\n",
      "ITER 1000: score=12634.927 | coffee is a mrewed drink brebared frop roasted coffee means the seeds of me\n",
      "ITER 2000: score=12714.374 | coffee is a brewed drink prepared from roasted coffee beans the seeds of be\n",
      "ITER 3000: score=12714.374 | coffee is a brewed drink prepared from roasted coffee beans the seeds of be\n",
      "ITER 4000: score=12714.374 | coffee is a brewed drink prepared from roasted coffee beans the seeds of be\n",
      "ITER 5000: score=12714.374 | coffee is a brewed drink prepared from roasted coffee beans the seeds of be\n",
      "ITER 6000: score=12714.374 | coffee is a brewed drink prepared from roasted coffee beans the seeds of be\n",
      "ITER 7000: score=12714.374 | coffee is a brewed drink prepared from roasted coffee beans the seeds of be\n",
      "ITER 8000: score=12714.374 | coffee is a brewed drink prepared from roasted coffee beans the seeds of be\n",
      "ITER 9000: score=12714.374 | coffee is a brewed drink prepared from roasted coffee beans the seeds of be\n",
      "Accuracy = 0.999\n"
     ]
    }
   ],
   "source": [
    "decryption_rule, decrypted_text = MCMC_decryption(10000, encrypted_test_en, bigram_freq_en, 2, en, test_en)"
   ]
  },
  {
   "cell_type": "code",
   "execution_count": 93,
   "metadata": {},
   "outputs": [
    {
     "data": {
      "text/plain": [
       "'coffee is a brewed drink prepared from roasted coffee beans the seeds of berries from certain coffea species when coffee berries turn from green to bright red in color indicating ripeness they are picked processed and dried dried coffee seeds referred to as beans are roasted to varying degrees depending on the desired flavor roasted beans are ground and then brewed with nearboiling water to produce the beverage known as coffee coffee is darkly colored bitter slightly acidic and has a stimulating effect in humans primarily due to its caffeine content it is one of the most popular drinks in the world and can be prepared and presented in a variety of ways it is usually served hot although chilled or iced coffee is common sugar sugar substitutes milk or cream are often used to lessen the bitter taste it may be served with coffee cake or another sweet dessert like doughnuts a commercial establishment that sells prepared coffee beverages is known as a coffee shop not to be confused with dutch coffeeshops selling cannabis clinical research indicates that moderate coffee consumption is benign or mildly beneficial as a stimulant in healthy adults with continuing research on whether longterm consumption reduces the risk of some diseases although some of the longterm studies are of xuestionable credibility'"
      ]
     },
     "execution_count": 93,
     "metadata": {},
     "output_type": "execute_result"
    }
   ],
   "source": [
    "decrypted_text"
   ]
  },
  {
   "cell_type": "code",
   "execution_count": 98,
   "metadata": {},
   "outputs": [
    {
     "name": "stdout",
     "output_type": "stream",
     "text": [
      "ITER 0: score=5943.757 | ряёыфйгящыхжжгяущьеыеэуппяущимыхйгящэщэиьещыяжзижпндщгхготщэпхёыищгнёнындщп\n",
      "ITER 1000: score=13186.94 | воктыждо трссдоя петегянноя амтрждо г гапе тосшасний дрдлу гнркта дикитий н\n",
      "ITER 2000: score=13603.888 | мовтыжко трсскоя петедянноя ицтржко д дипе тосчиснай крклу днрвти каватай н\n",
      "ITER 3000: score=13924.295 | матрушка рвсская бередянная ифрвшка д дибе расписной квклы днвтри которой н\n",
      "ITER 4000: score=14299.751 | матрцшка русская деревянная изрушка в виде расписной куклы внутри которой н\n",
      "ITER 5000: score=14367.023 | матрцшка русская деревянная игрушка в виде расписной куклы внутри которой н\n",
      "ITER 6000: score=14367.023 | матрцшка русская деревянная игрушка в виде расписной куклы внутри которой н\n",
      "ITER 7000: score=14367.023 | матрцшка русская деревянная игрушка в виде расписной куклы внутри которой н\n",
      "ITER 8000: score=14367.023 | матрцшка русская деревянная игрушка в виде расписной куклы внутри которой н\n",
      "ITER 9000: score=14367.023 | матрцшка русская деревянная игрушка в виде расписной куклы внутри которой н\n",
      "Accuracy = 0.989\n"
     ]
    }
   ],
   "source": [
    "decryption_rule, decrypted_text = MCMC_decryption(10000, encrypted_test_ru, bigram_freq_ru, 2, ru, test_ru)"
   ]
  },
  {
   "cell_type": "code",
   "execution_count": 99,
   "metadata": {},
   "outputs": [
    {
     "data": {
      "text/plain": [
       "'матрцшка русская деревянная игрушка в виде расписной куклы внутри которой находятся подобные ей куклы меньшего размера число вложенных кукол обычно три и более обычно имеют эорму яйфа с плоским донфем и состоят из двух разёцмных частей верхней и нижней на традифионных матрцшках изображена женщина в красном сараэане и платке в наше время темы для росписи разнообразны сказочные персонажи девушки а также семьи стали нередки и матрцшки пародийного характера с изображением политических деятелей сравнительно недавно стала набирать популярность матрцшка с изображением портрета портретная матрцшка сейчас матрцшки делают в различных мастерских сначала подбирают подходящий вид древесины изза мягкости в основном выбирают липу реже ольху или берцзу деревья обычно срубают ранней весной снимают кору но не полностью чтобы во время сушки древесина не давала трещин затем брцвна складируют и сушат в течение нескольких лет в хорошо вентилируемом месте древесина может заготавливаться в регионе изготовления или быть завозной к обработке древесины необходимо приступать тогда когда она не сухая но и не сырая каждая заготовка проходит более десятка операфий самую маленькую куклу делают первой когда матрцшка готова приступают к следующей эигурке в которую войдцт первая заготовка необходимой высоты обрабатывается и разрезается на верхнюю и нижнюю части первой делается нижняя часть затем удаляют древесину изнутри обеих частей второй куклы так чтобы меньшая кукла плотно вставлялась внутрь потом професс повторяется для куклы большего размера в которую войдут две предыдущие и т д количество кукол может быть различным в заключение професса каждую куклу покрывают масляным лаком после окончательной сушки и полировки художник приступает к раскраске в качестве красок используется акварель гуашь темпера реже масляные краски несмотря на разнообразие красок мастера попрежнему отдают предпочтение гуаши'"
      ]
     },
     "execution_count": 99,
     "metadata": {},
     "output_type": "execute_result"
    }
   ],
   "source": [
    "decrypted_text"
   ]
  },
  {
   "cell_type": "markdown",
   "metadata": {},
   "source": [
    "Наш метод прекрасно справляется с тестовыми текстами и уже меньше, чем за 10к итераций сходится. Точность расшифровки > 98%, алгоритм ошибается лишь на редких буквах (например ё)."
   ]
  },
  {
   "cell_type": "markdown",
   "metadata": {},
   "source": [
    "Теперь попробуем расшифровать сообщение из задания:\n",
    "←⇠⇒↟↹↷⇊↹↷↟↤↟↨←↹↝⇛⇯↳⇴⇒⇈↝⇊↾↹↟⇒↟↹⇷⇛⇞↨↟↹↝⇛⇯↳⇴⇒⇈↝⇊↾↹↨←⇌⇠↨↹⇙↹⇸↨⇛↙⇛↹⇠⇛⇛↲⇆←↝↟↞↹⇌⇛↨⇛⇯⇊↾↹⇒←↙\n",
    "⇌⇛↹⇷⇯⇛⇞↟↨⇴↨⇈↹⇠⇌⇛⇯←←↹↷⇠←↙⇛↹↷⇊↹↷⇠←↹⇠↤←⇒⇴⇒↟↹⇷⇯⇴↷↟⇒⇈↝⇛↹↟↹⇷⇛⇒⇙⇞↟↨←↹↳⇴⇌⇠↟↳⇴⇒⇈↝⇊↾↹↲⇴⇒⇒↹⇰⇴\n",
    "↹⇷⇛⇠⇒←↤↝←←↹⇞←↨↷←⇯↨⇛←↹⇰⇴↤⇴↝↟←↹⇌⇙⇯⇠⇴↹↘⇛↨↞↹⇌⇛↝←⇞↝⇛↹↞↹↝↟⇞←↙⇛↹↝←↹⇛↲←⇆⇴⇏"
   ]
  },
  {
   "cell_type": "code",
   "execution_count": 120,
   "metadata": {},
   "outputs": [
    {
     "name": "stdout",
     "output_type": "stream",
     "text": [
      "ITER 0: score=983.93 | ыхижпбзпбжджтыпоемнришозвпжижпяейтжпоемнришозвптылхтпгп течепхеекуыожьплете\n",
      "ITER 1000: score=1733.625 | осли вы викино ремчалдрый или бегни ремчалдрый нотсн у ьнеже сеехпория тене\n",
      "ITER 2000: score=1735.903 | осли ты типино ремчалкрый или бегни ремчалкрый новсн у ьнеде сеешхория вене\n",
      "ITER 3000: score=1734.326 | осли ты типино ревзалкрый или бегни ревзалкрый номсн у ьнеде сеехшория мене\n",
      "ITER 4000: score=1736.918 | осли ты типино ревзалкрый или дегни ревзалкрый номсн у ьнеже сеехшория мене\n",
      "ITER 5000: score=1737.987 | осли ты типино ревзалкрый или дегни ревзалкрый номсн у ьнебе сеехшория мене\n",
      "ITER 6000: score=1741.164 | осли ты типино ревзалкрый или дегни ревзалкрый номсн у ьнеже сеебхория мене\n",
      "ITER 7000: score=1741.164 | осли ты типино ревзалкрый или дегни ревзалкрый номсн у ьнеже сеебхория мене\n",
      "ITER 8000: score=1741.164 | осли ты типино ревзалкрый или дегни ревзалкрый номсн у ьнеже сеебхория мене\n",
      "ITER 9000: score=1741.164 | осли ты типино ревзалкрый или дегни ревзалкрый номсн у ьнеже сеебхория мене\n",
      "ITER 10000: score=1736.188 | осли ны нипито ревзалкрый или дегти ревзалкрый томст у ьтеше сеебхория мете\n",
      "ITER 11000: score=1740.348 | осли ты типино ревзалкрый или дегни ревзалкрый номсн у ьнеше сеебхория мене\n",
      "ITER 12000: score=1737.064 | осли ты тикино ревзалпрый или дегни ревзалпрый номсн у ьнеже сеебхория мене\n",
      "ITER 13000: score=1741.164 | осли ты типино ревзалкрый или дегни ревзалкрый номсн у ьнеже сеебхория мене\n",
      "ITER 14000: score=1741.164 | осли ты типино ревзалкрый или дегни ревзалкрый номсн у ьнеже сеебхория мене\n",
      "ITER 15000: score=1736.297 | осли мы мипито ревзалкрый или дегти ревзалкрый тонст у чтеже сеебхория нете\n",
      "ITER 16000: score=1736.337 | осли вы випито ремзалкрый или бегти ремзалкрый тонст у штеже сеедхория нете\n",
      "ITER 17000: score=1765.851 | осли вы викито нерзаляный или пегти нерзаляный тодст у чтеже сеебхоним дете\n",
      "ITER 18000: score=1771.167 | осли вы викито нершаляный или пемти нершаляный тодст у чтеже сеегхониь дете\n",
      "ITER 19000: score=1789.397 | осли вы викито нерзальный или пемти нерзальный тодст у чтеже сеебгония дете\n",
      "ITER 20000: score=1787.689 | осли вы викито нерзальный или пемти нерзальный тодст у чтеже сеегшония дете\n",
      "ITER 21000: score=1790.675 | осли вы викито нерзальный или пемти нерзальный тодст у чтеже сеегхония дете\n",
      "ITER 22000: score=1787.715 | осли вы викито нерчальный или пемти нерчальный тодст у штеже сеегхония дете\n",
      "ITER 23000: score=1787.098 | осли вы вихито неркальный или пемти неркальный тодст у чтеже сеегшония дете\n",
      "ITER 24000: score=1790.675 | осли вы викито нерзальный или пемти нерзальный тодст у чтеже сеегхония дете\n",
      "ITER 25000: score=1782.99 | осли вы викито нерхальный или пемти нерхальный тодст у чтеге сеезжония дете\n",
      "ITER 26000: score=1806.302 | если вы вимите норжальный или подти норжальный текст у чтого сообшения кото\n",
      "ITER 27000: score=1805.648 | если вы вимите норшальный или подти норшальный текст у чтого сообжения кото\n",
      "ITER 28000: score=1806.302 | если вы вимите норжальный или подти норжальный текст у чтого сообшения кото\n",
      "ITER 29000: score=1806.302 | если вы вимите норжальный или подти норжальный текст у чтого сообшения кото\n"
     ]
    }
   ],
   "source": [
    "decryption_rule, decrypted_text = MCMC_decryption(30000, test, bigram_freq_ru, 2, ru)"
   ]
  },
  {
   "cell_type": "code",
   "execution_count": 121,
   "metadata": {},
   "outputs": [
    {
     "data": {
      "text/plain": [
       "'если вы вимите норжальный или подти норжальный текст у чтого сообшения который легко продитать скорее всего вы все смелали правильно и полудите жаксижальный балл за послемнее детвертое замание курса хотя конедно я нидего не обешаю'"
      ]
     },
     "execution_count": 121,
     "metadata": {},
     "output_type": "execute_result"
    }
   ],
   "source": [
    "decrypted_text"
   ]
  },
  {
   "cell_type": "markdown",
   "metadata": {},
   "source": [
    "Конечно из-за того, что размер сообщения не очень большой, качество расшифровки не идеальное, но предложение читаемое, что очень приятно :)"
   ]
  }
 ],
 "metadata": {
  "kernelspec": {
   "display_name": "Python 3",
   "language": "python",
   "name": "python3"
  },
  "language_info": {
   "codemirror_mode": {
    "name": "ipython",
    "version": 3
   },
   "file_extension": ".py",
   "mimetype": "text/x-python",
   "name": "python",
   "nbconvert_exporter": "python",
   "pygments_lexer": "ipython3",
   "version": "3.8.3"
  }
 },
 "nbformat": 4,
 "nbformat_minor": 4
}
