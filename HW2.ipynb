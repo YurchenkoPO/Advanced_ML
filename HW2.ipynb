{
  "nbformat": 4,
  "nbformat_minor": 0,
  "metadata": {
    "kernelspec": {
      "display_name": "Python 3",
      "language": "python",
      "name": "python3"
    },
    "language_info": {
      "codemirror_mode": {
        "name": "ipython",
        "version": 3
      },
      "file_extension": ".py",
      "mimetype": "text/x-python",
      "name": "python",
      "nbconvert_exporter": "python",
      "pygments_lexer": "ipython3",
      "version": "3.8.3"
    },
    "colab": {
      "name": "HW2.ipynb",
      "provenance": [],
      "collapsed_sections": []
    }
  },
  "cells": [
    {
      "cell_type": "code",
      "metadata": {
        "colab": {
          "base_uri": "https://localhost:8080/"
        },
        "id": "OdK3uA-ySlDP",
        "outputId": "675dc9dc-abbd-4131-f03a-e55760e47dfa"
      },
      "source": [
        "!pip install Levenshtein"
      ],
      "execution_count": 1,
      "outputs": [
        {
          "output_type": "stream",
          "text": [
            "Collecting Levenshtein\n",
            "\u001b[?25l  Downloading https://files.pythonhosted.org/packages/8e/41/ff25ae28c972a63abde29cd5cea7c648ae0e16b334693cede0522e66dd68/levenshtein-0.12.0-cp37-cp37m-manylinux1_x86_64.whl (158kB)\n",
            "\r\u001b[K     |██                              | 10kB 14.9MB/s eta 0:00:01\r\u001b[K     |████▏                           | 20kB 9.7MB/s eta 0:00:01\r\u001b[K     |██████▏                         | 30kB 10.3MB/s eta 0:00:01\r\u001b[K     |████████▎                       | 40kB 6.7MB/s eta 0:00:01\r\u001b[K     |██████████▍                     | 51kB 4.3MB/s eta 0:00:01\r\u001b[K     |████████████▍                   | 61kB 4.7MB/s eta 0:00:01\r\u001b[K     |██████████████▌                 | 71kB 4.7MB/s eta 0:00:01\r\u001b[K     |████████████████▋               | 81kB 5.1MB/s eta 0:00:01\r\u001b[K     |██████████████████▋             | 92kB 5.2MB/s eta 0:00:01\r\u001b[K     |████████████████████▊           | 102kB 5.2MB/s eta 0:00:01\r\u001b[K     |██████████████████████▉         | 112kB 5.2MB/s eta 0:00:01\r\u001b[K     |████████████████████████▉       | 122kB 5.2MB/s eta 0:00:01\r\u001b[K     |███████████████████████████     | 133kB 5.2MB/s eta 0:00:01\r\u001b[K     |█████████████████████████████   | 143kB 5.2MB/s eta 0:00:01\r\u001b[K     |███████████████████████████████ | 153kB 5.2MB/s eta 0:00:01\r\u001b[K     |████████████████████████████████| 163kB 5.2MB/s \n",
            "\u001b[?25hRequirement already satisfied: setuptools in /usr/local/lib/python3.7/dist-packages (from Levenshtein) (54.2.0)\n",
            "Installing collected packages: Levenshtein\n",
            "Successfully installed Levenshtein-0.12.0\n"
          ],
          "name": "stdout"
        }
      ]
    },
    {
      "cell_type": "code",
      "metadata": {
        "id": "ygD-F4150NEo"
      },
      "source": [
        "import pandas as pd\n",
        "import numpy as np\n",
        "import matplotlib as mpl\n",
        "import matplotlib.pyplot as plt\n",
        "import seaborn as sns\n",
        "import warnings\n",
        "warnings.filterwarnings('ignore')\n",
        "from collections import OrderedDict\n",
        "from time import time\n",
        "from tqdm import tqdm\n",
        "\n",
        "import numpy as np\n",
        "import scipy as sp\n",
        "from scipy.sparse import csr_matrix\n",
        "import pandas as pd\n",
        "\n",
        "from scipy.optimize import fmin_powell\n",
        "from scipy import integrate\n",
        "from scipy import linalg\n",
        "\n",
        "from sklearn.preprocessing import normalize, MinMaxScaler\n",
        "from sklearn.preprocessing import OneHotEncoder\n",
        "from sklearn import linear_model\n",
        "from sklearn.utils.testing import ignore_warnings\n",
        "from sklearn.exceptions import ConvergenceWarning\n",
        "\n",
        "np.set_printoptions(precision=4, suppress=True)\n",
        "\n",
        "from collections import Counter\n",
        "from Levenshtein import distance as levenshtein_distance\n",
        "\n",
        "sns.set_style(\"whitegrid\")\n",
        "sns.set_palette(\"colorblind\")\n",
        "palette = sns.color_palette()\n",
        "figsize = (15,8)\n",
        "legend_fontsize = 16\n",
        "\n",
        "from matplotlib import rc\n",
        "rc('font',**{'family':'sans-serif'})\n",
        "rc('figure', **{'dpi' : 200})"
      ],
      "execution_count": 2,
      "outputs": []
    },
    {
      "cell_type": "code",
      "metadata": {
        "colab": {
          "base_uri": "https://localhost:8080/"
        },
        "id": "MFiIZi1h0Tg2",
        "outputId": "54b33681-978d-4faf-a2e7-56ad18f0c02f"
      },
      "source": [
        "from google.colab import drive\n",
        "drive.mount('/content/drive')"
      ],
      "execution_count": 3,
      "outputs": [
        {
          "output_type": "stream",
          "text": [
            "Mounted at /content/drive\n"
          ],
          "name": "stdout"
        }
      ]
    },
    {
      "cell_type": "markdown",
      "metadata": {
        "id": "sNdvsZu00NEy"
      },
      "source": [
        "## Спортивное \"Что? Где? Когда?\": данные"
      ]
    },
    {
      "cell_type": "code",
      "metadata": {
        "id": "Zl7VORoa0NEz"
      },
      "source": [
        "import json, pickle\n",
        "\n",
        "tournaments = pickle.load(open('/content/drive/MyDrive/Colab Notebooks/Advanced_ML/2HW/tournaments.pkl', 'rb'))\n",
        "results = pickle.load(open('/content/drive/MyDrive/Colab Notebooks/Advanced_ML/2HW/results.pkl', 'rb'))\n",
        "players = pickle.load(open('/content/drive/MyDrive/Colab Notebooks/Advanced_ML/2HW/players.pkl', 'rb'))"
      ],
      "execution_count": 4,
      "outputs": []
    },
    {
      "cell_type": "markdown",
      "metadata": {
        "id": "4xBfkVZB0NE1"
      },
      "source": [
        "# 1.\n",
        "\n",
        "Выберем данные, в которых есть данные о составах команд и также заметим, что есть турниры, в которых количество вопросов у разных команд разное. В таких турнирах оставим только те команды, которые приняли участие во всех вопросах, а другие команды будем считать дисквалифицированными и не будем их учитывать."
      ]
    },
    {
      "cell_type": "code",
      "metadata": {
        "colab": {
          "base_uri": "https://localhost:8080/"
        },
        "id": "F1xnz9uu0NE1",
        "outputId": "dbff3632-1e5c-4636-8260-18bfc668a8d4"
      },
      "source": [
        "for res in results[5864][:15]:\n",
        "    print('Results:', res['mask'])"
      ],
      "execution_count": 52,
      "outputs": [
        {
          "output_type": "stream",
          "text": [
            "Results: 111111111001110111101110111110111111111111101111110110010000000111111100110011101111000101001001111101101001001010010101100001\n",
            "Results: 111011110001101011101110011100101011101111101001100111001101110111010100111111100111001011000101110101111000011011010101100101\n",
            "Results: 101011100001101011111110011000101111101111101001010110110011100111010001111010111111001100100010110101101101101010010101111101\n",
            "Results: 100111111001101011001000111001101011101111101001100110110000000010110000111111100011000000100001001101001000001110011101110111\n",
            "Results: 110011101001110011101010011000101011101111001011100101010000000111110000111000000011110010100110110101110010001010010100110111\n",
            "Results: 101111101000111110110010100111010100111110010111100111101111100101111110101110011101110111\n",
            "Results: 110111101111011110110001110111111000111011110111001001100101111101011101011110001001110101\n",
            "Results: 111011110001100011001110001000101101100111101000010111010000000111010110101011000011010001110001100001111100001010010000100011\n",
            "Results: 111011101100000100100110011010101001000101001001110110010010000011111000111111001011100001010000111001000100001010000000000110\n",
            "Results: 110111111101101011111100111111111101111011011001111010101001000001110011001110110\n",
            "Results: 111101101001100111111011000111100100101111101011011001010010111001011101001000011100110101\n",
            "Results: 111011111101101100101100011000101101000101000000010011000010001010010100001001101110001000000001110001000000001010011000110100\n",
            "Results: 001101101101000111010011111010110100110110100111100101100000110101011011110010101100100101\n",
            "Results: 101111001001011110010000010111011101001011000111101001111001100101011001111010010101110100\n",
            "Results: 010111001011101111011000100111110001111010110101101001001000111101000100001010011100110100\n"
          ],
          "name": "stdout"
        }
      ]
    },
    {
      "cell_type": "code",
      "metadata": {
        "id": "kmpfQMMw0NE3"
      },
      "source": [
        "train = [ (k, v['name']) for k,v in tournaments.items() if v['dateStart'][:4] == '2019' ]\n",
        "test = [ (k, v['name']) for k,v in tournaments.items() if v['dateStart'][:4] == '2020' ]"
      ],
      "execution_count": 6,
      "outputs": []
    },
    {
      "cell_type": "code",
      "metadata": {
        "id": "-Q9hUPTC0NE3"
      },
      "source": [
        "train_new = []\n",
        "test_new = []\n",
        "tournaments_2019_2020 = set()\n",
        "players_2019_2020 = set()\n",
        "num_questions_train = 0\n",
        "\n",
        "for id_, name in train:\n",
        "    if not results[id_] or 'mask' not in results[id_][0].keys() or not results[id_][0]['mask']:\n",
        "        continue\n",
        "    leng = len(results[id_][0]['mask'])\n",
        "    is_correct = True\n",
        "    for res in results[id_]:\n",
        "        if not res['mask'] or len(res['mask']) != leng:\n",
        "            is_correct = False\n",
        "            break\n",
        "    if is_correct:\n",
        "        teams = []\n",
        "        for res in results[id_]:\n",
        "            if res['teamMembers']:\n",
        "                if not res['mask'].isdigit():\n",
        "                    mask = ''\n",
        "                    for x in res['mask']:\n",
        "                        if x.isdigit():\n",
        "                            mask += x\n",
        "                    score_list = list(map(int, list(mask)))\n",
        "                else:\n",
        "                    score_list = list(map(int, list(res['mask'])))\n",
        "                score = sum(score_list) / len(score_list)\n",
        "                teams.append(([p['player']['id'] for p in res['teamMembers']], score_list))\n",
        "                num_questions_train += len(score_list)\n",
        "                for p in res['teamMembers']:\n",
        "                    players_2019_2020.add(p['player']['id'])\n",
        "            else:\n",
        "                continue\n",
        "        train_new.append((id_, teams))\n",
        "    tournaments_2019_2020.add(id_)\n",
        "        \n",
        "\n",
        "for id_, name in test:\n",
        "    if not results[id_] or 'mask' not in results[id_][0].keys() or not results[id_][0]['mask']:\n",
        "        continue\n",
        "    leng = len(results[id_][0]['mask'])\n",
        "    is_correct = True\n",
        "    for res in results[id_]:\n",
        "        if not res['mask'] or len(res['mask']) != leng:\n",
        "            is_correct = False\n",
        "            break\n",
        "    if is_correct:\n",
        "        teams = []\n",
        "        for res in results[id_]:\n",
        "            if res['teamMembers']:\n",
        "                if not res['mask'].isdigit():\n",
        "                    mask = ''\n",
        "                    for x in res['mask']:\n",
        "                        if x.isdigit():\n",
        "                            mask += x\n",
        "                    score_list = list(map(int, list(mask)))\n",
        "                else:\n",
        "                    score_list = list(map(int, list(res['mask'])))\n",
        "                score = sum(score_list) / len(score_list)\n",
        "                teams.append(([p['player']['id'] for p in res['teamMembers']], score_list))\n",
        "                for p in res['teamMembers']:\n",
        "                    players_2019_2020.add(p['player']['id'])\n",
        "            else:\n",
        "                continue\n",
        "        test_new.append((id_, teams))\n",
        "    tournaments_2019_2020.add(id_)\n",
        "    \n",
        "tournaments_2019_2020 = list(tournaments_2019_2020)\n",
        "players_2019_2020 = list(players_2019_2020)"
      ],
      "execution_count": 7,
      "outputs": []
    },
    {
      "cell_type": "code",
      "metadata": {
        "scrolled": true,
        "colab": {
          "base_uri": "https://localhost:8080/"
        },
        "id": "alVHbx9H0NE7",
        "outputId": "28e42152-0f88-4764-8526-177f79610cca"
      },
      "source": [
        "train_new[0][0], train_new[0][1][0]"
      ],
      "execution_count": 55,
      "outputs": [
        {
          "output_type": "execute_result",
          "data": {
            "text/plain": [
              "(4772,\n",
              " ([6212, 18332, 18036, 22799, 15456, 26089],\n",
              "  [1,\n",
              "   1,\n",
              "   1,\n",
              "   1,\n",
              "   1,\n",
              "   1,\n",
              "   1,\n",
              "   1,\n",
              "   1,\n",
              "   0,\n",
              "   1,\n",
              "   1,\n",
              "   1,\n",
              "   1,\n",
              "   1,\n",
              "   1,\n",
              "   1,\n",
              "   0,\n",
              "   1,\n",
              "   1,\n",
              "   1,\n",
              "   1,\n",
              "   1,\n",
              "   1,\n",
              "   1,\n",
              "   1,\n",
              "   1,\n",
              "   1,\n",
              "   0,\n",
              "   0,\n",
              "   0,\n",
              "   1,\n",
              "   0,\n",
              "   0,\n",
              "   1,\n",
              "   0]))"
            ]
          },
          "metadata": {
            "tags": []
          },
          "execution_count": 55
        }
      ]
    },
    {
      "cell_type": "markdown",
      "metadata": {
        "id": "RRJvGdgQ0NE9"
      },
      "source": [
        "# 2 - 3.\n",
        "\n",
        "__Способ 1__ (обучать эффективность каждого игрока):\n",
        "\n",
        "Для построения модели для ранжирования игроков будем использовать информацию о том, ответил ли игрок на вопрос или не ответил для каждого вопроса. Построим логистическую регрессию на тренировочных данных и сравним веса, с которыми учитываются разные игроки и разные вопросы.\n",
        "\n",
        "Модель можно интерпретировать следующим образом - мы обучаем скилл игрока и сложность вопроса лог регрессией:\n",
        "\n",
        "$ p(x_{ij}) = \\sigma(X * w)_{f(i, j)} = \\sigma(skill_i + difficulty_j) $,\n",
        "\n",
        "где $x_{ij}$ - факт ответа на j вопрос i-м игроком, $f(i, j) $ - функция, которая возвращяет индекс строки матрицы X признаков с 1 на i-ом и j-ом местах и остальными нулями"
      ]
    },
    {
      "cell_type": "code",
      "metadata": {
        "id": "lJqX8BgK0NE-"
      },
      "source": [
        "from sklearn.linear_model import LinearRegression, Ridge, LogisticRegression"
      ],
      "execution_count": 9,
      "outputs": []
    },
    {
      "cell_type": "code",
      "metadata": {
        "colab": {
          "base_uri": "https://localhost:8080/"
        },
        "id": "k2TY2J6p0NE-",
        "outputId": "f81155c1-8358-4554-b7ae-601ec61e932e"
      },
      "source": [
        "X_train = []\n",
        "y_train = []\n",
        "\n",
        "n_questions = 0\n",
        "for tour in tqdm(train_new):\n",
        "    for team in tour[1]:\n",
        "        for player in team[0]:\n",
        "            for j in range(len(team[1])):\n",
        "                X_train.append(np.array([player, n_questions + j]))\n",
        "                y_train.append(team[1][j])\n",
        "    n_questions += len(tour[1][0][1])\n",
        "\n",
        "X_train = np.array(X_train)"
      ],
      "execution_count": 10,
      "outputs": [
        {
          "output_type": "stream",
          "text": [
            "100%|██████████| 660/660 [00:32<00:00, 20.15it/s]\n"
          ],
          "name": "stderr"
        }
      ]
    },
    {
      "cell_type": "code",
      "metadata": {
        "id": "2cK-v9wV0NE-"
      },
      "source": [
        "ohe = OneHotEncoder(sparse=True).fit(X_train)\n",
        "X_train = ohe.transform(X_train)\n",
        "y_train = np.array(y_train)"
      ],
      "execution_count": 11,
      "outputs": []
    },
    {
      "cell_type": "code",
      "metadata": {
        "colab": {
          "base_uri": "https://localhost:8080/"
        },
        "id": "nOsHqZAy0NE_",
        "outputId": "ba2fceed-a941-43c2-c18c-6a8c90ec0d07"
      },
      "source": [
        "X_train.shape, y_train.shape"
      ],
      "execution_count": 12,
      "outputs": [
        {
          "output_type": "execute_result",
          "data": {
            "text/plain": [
              "((16119246, 87498), (16119246,))"
            ]
          },
          "metadata": {
            "tags": []
          },
          "execution_count": 12
        }
      ]
    },
    {
      "cell_type": "code",
      "metadata": {
        "colab": {
          "base_uri": "https://localhost:8080/"
        },
        "id": "oIO04wXb0NE_",
        "outputId": "8883312c-f6bc-434c-bbd6-dde82f0512ec"
      },
      "source": [
        "%%time\n",
        "\n",
        "log_reg = LogisticRegression().fit(X_train, y_train)"
      ],
      "execution_count": 13,
      "outputs": [
        {
          "output_type": "stream",
          "text": [
            "CPU times: user 3min 37s, sys: 25.6 s, total: 4min 2s\n",
            "Wall time: 3min 34s\n"
          ],
          "name": "stdout"
        }
      ]
    },
    {
      "cell_type": "code",
      "metadata": {
        "colab": {
          "base_uri": "https://localhost:8080/"
        },
        "id": "6OzsyoBY0NE_",
        "outputId": "fbf04e84-560b-4a37-ea1c-1e5a24b87219"
      },
      "source": [
        "log_reg.coef_"
      ],
      "execution_count": 14,
      "outputs": [
        {
          "output_type": "execute_result",
          "data": {
            "text/plain": [
              "array([[-0.0358,  0.8907,  0.1102, ...,  1.869 , -0.7312, -0.2922]])"
            ]
          },
          "metadata": {
            "tags": []
          },
          "execution_count": 14
        }
      ]
    },
    {
      "cell_type": "code",
      "metadata": {
        "colab": {
          "base_uri": "https://localhost:8080/"
        },
        "id": "7JyRrj6r0NFA",
        "outputId": "c63c39dc-0ca7-4027-a1b0-cb16e26d869b"
      },
      "source": [
        "ohe.categories_"
      ],
      "execution_count": 15,
      "outputs": [
        {
          "output_type": "execute_result",
          "data": {
            "text/plain": [
              "[array([    15,     16,     23, ..., 224482, 224539, 224542]),\n",
              " array([    0,     1,     2, ..., 30630, 30631, 30632])]"
            ]
          },
          "metadata": {
            "tags": []
          },
          "execution_count": 15
        }
      ]
    },
    {
      "cell_type": "code",
      "metadata": {
        "id": "VNyjnG3Q0NFA"
      },
      "source": [
        "players_skill = MinMaxScaler().fit_transform(log_reg.coef_[0][:ohe.categories_[0].shape[0]].reshape(ohe.categories_[0].shape[0], 1))\n",
        "question_difficulty = MinMaxScaler().fit_transform(log_reg.coef_[0][ohe.categories_[0].shape[0]:].reshape(ohe.categories_[1].shape[0], 1))\n",
        "\n",
        "players_skill = np.concatenate((ohe.categories_[0].reshape(ohe.categories_[0].shape[0], 1), players_skill), axis=1)\n",
        "question_difficulty = np.concatenate((ohe.categories_[1].reshape(ohe.categories_[1].shape[0], 1), question_difficulty), axis=1)"
      ],
      "execution_count": 16,
      "outputs": []
    },
    {
      "cell_type": "code",
      "metadata": {
        "id": "8ibiBPpP0NFA"
      },
      "source": [
        "players_skill_dict = dict(players_skill)\n",
        "question_difficulty_dict = dict(question_difficulty)"
      ],
      "execution_count": 17,
      "outputs": []
    },
    {
      "cell_type": "code",
      "metadata": {
        "colab": {
          "base_uri": "https://localhost:8080/"
        },
        "id": "vzpbcyYt0NFA",
        "outputId": "d2a0cf75-bae5-430c-d3b6-03e3a35f98a2"
      },
      "source": [
        "print('\\n'.join([' '.join([str(i + 1), ' ', players[int(k)]['surname'], players[int(k)]['name'], players[int(k)]['patronymic'], '\\t\\t', str(v)]) \\\n",
        "                         for i, (k, v) in enumerate(sorted(players_skill, key=lambda x: x[1], reverse=True)[:20])]))"
      ],
      "execution_count": 18,
      "outputs": [
        {
          "output_type": "stream",
          "text": [
            "0   Брутер Александра Владимировна \t\t 1.0\n",
            "1   Руссо Максим Михайлович \t\t 0.99586151804462\n",
            "2   Семушин Иван Николаевич \t\t 0.9807091089514975\n",
            "3   Савченков Михаил Владимирович \t\t 0.9755352709147873\n",
            "4   Сорожкин Артём Сергеевич \t\t 0.9715619324964967\n",
            "5   Юнгер Мария Алексеевна \t\t 0.9437971608563993\n",
            "6   Спешков Сергей Леонидович \t\t 0.9399567687667126\n",
            "7   Бровер Сусанна Марковна \t\t 0.9302169650450905\n",
            "8   Михайлов Кирилл Игоревич \t\t 0.9291191632634037\n",
            "9   Митрофанов Артём Александрович \t\t 0.9206692374371003\n",
            "10   Дубинская Ольга Игоревна \t\t 0.9145675125605137\n",
            "11   Богословский Алексей Алексеевич \t\t 0.9143100136447077\n",
            "12   Саксонов Антон Владимирович \t\t 0.9112923452634092\n",
            "13   Царёв Михаил Сергеевич \t\t 0.9093923826377516\n",
            "14   Иванцова Светлана Сергеевна \t\t 0.9055411558136148\n",
            "15   Мокин Игорь Викторович \t\t 0.9034978798488931\n",
            "16   Марков Александр Валерьевич \t\t 0.9030463701320759\n",
            "17   Кудряшова Наталья Алексеевна \t\t 0.9016364774391163\n",
            "18   Бомешко Светлана Борисовна \t\t 0.9002212247736538\n",
            "19   Николенко Сергей Игоревич \t\t 0.9002189154454472\n"
          ],
          "name": "stdout"
        }
      ]
    },
    {
      "cell_type": "code",
      "metadata": {
        "id": "8KfM1rnJ0NFB"
      },
      "source": [
        "def find_scores(players_skill_dict):\n",
        "    spearman_scores = []\n",
        "    kendall_scores = []\n",
        "\n",
        "\n",
        "    for tour in test_new:\n",
        "        real_ranks = []\n",
        "        pred_ranks = []\n",
        "        for i, team in enumerate(tour[1]):\n",
        "            real_ranks.append((i, sum(team[1]) / len(team[1])))\n",
        "            score = 0\n",
        "            k = 0\n",
        "            for p in team[0]:\n",
        "                if p in players_skill_dict.keys():\n",
        "                    score += players_skill_dict[p]\n",
        "                    k += 1\n",
        "            if k:\n",
        "                pred_ranks.append((i, score / k))\n",
        "            else:\n",
        "                pred_ranks.append((i, 0))\n",
        "\n",
        "        real_ranks = [k for k, v in sorted(real_ranks, key=lambda x: x[1], reverse=True)]\n",
        "        pred_ranks = [k for k, v in sorted(pred_ranks, key=lambda x: x[1], reverse=True)]\n",
        "\n",
        "        spearman_sc = sp.stats.spearmanr(real_ranks, pred_ranks)[0]\n",
        "        kendall_sc = sp.stats.kendalltau(real_ranks, pred_ranks)[0]\n",
        "        if not np.isnan(spearman_sc):\n",
        "            spearman_scores.append(spearman_sc)\n",
        "        if not np.isnan(kendall_sc):\n",
        "            kendall_scores.append(kendall_sc)\n",
        "\n",
        "    print(f'Spearman average score is {sum(spearman_scores)/len(spearman_scores)}')\n",
        "    print(f'Kendall average score is {sum(kendall_scores)/len(kendall_scores)}')"
      ],
      "execution_count": 19,
      "outputs": []
    },
    {
      "cell_type": "code",
      "metadata": {
        "colab": {
          "base_uri": "https://localhost:8080/"
        },
        "id": "ckol8d7U0NFB",
        "outputId": "9ea8da8d-d055-43f8-c1a9-f8f7b2ff3abb"
      },
      "source": [
        "find_scores(players_skill_dict)"
      ],
      "execution_count": 20,
      "outputs": [
        {
          "output_type": "stream",
          "text": [
            "Spearman average score is 0.7593225630823455\n",
            "Kendall average score is 0.5925790501031619\n"
          ],
          "name": "stdout"
        }
      ]
    },
    {
      "cell_type": "markdown",
      "metadata": {
        "id": "jxzZR8Z60NFB"
      },
      "source": [
        "Получили достаточно адекватыне результаты и список топ игроков"
      ]
    },
    {
      "cell_type": "markdown",
      "metadata": {
        "id": "lwZHwlXa0NFC"
      },
      "source": [
        "__Способ 2__ (непосредственно обучать эффективность всей команды от ее состава):\n",
        "\n",
        "Теперь будем сразу строить модель для ранжирования команд с известными составами. Соберем датасет следующий образом: объектом будет служить команда, а признаками - вектора длины всех игроков с 1 на месте игравших в данной команде игроков и с остальными нулями. Таргетом будет эффективность команды в игре (считаем, что эффективность команды совпадает с эффективностью игроков, входящих в нее).\n",
        "\n",
        "Размерность таких матриц будет огромной и уместить их в np.array не представляется возможным, зато можно без труда уместить их в sparse matrix представление. И, так как у нас матрица состоит только из 0 и 1, то будем хранить данные в int8. На этом будем обучать линейную регрессию."
      ]
    },
    {
      "cell_type": "code",
      "metadata": {
        "id": "J57ZGg310NFC",
        "colab": {
          "base_uri": "https://localhost:8080/"
        },
        "outputId": "ccb9688b-467c-45b2-fbc8-f679154ba754"
      },
      "source": [
        "train_len2 = 0\n",
        "train_row2 = []\n",
        "train_col2 = []\n",
        "train_data2 = []\n",
        "\n",
        "y_train2 = []\n",
        "\n",
        "i = 0\n",
        "for tour in tqdm(train_new):\n",
        "    for team in tour[1]:\n",
        "        for player in team[0]:\n",
        "            train_row2.append(i)\n",
        "            train_col2.append(player)\n",
        "            train_data2.append(1)\n",
        "        y_train2.append(sum(team[1]) / len(team[1]))\n",
        "        train_len2 += 1\n",
        "        i += 1\n",
        "\n",
        "train_row2 = np.array(train_row2)\n",
        "train_col2 = np.array(train_col2)\n",
        "train_data2 = np.array(train_data2, dtype=np.int8)"
      ],
      "execution_count": 21,
      "outputs": [
        {
          "output_type": "stream",
          "text": [
            "100%|██████████| 660/660 [00:00<00:00, 1977.83it/s]\n"
          ],
          "name": "stderr"
        }
      ]
    },
    {
      "cell_type": "code",
      "metadata": {
        "id": "TPlOORZH0NFD",
        "colab": {
          "base_uri": "https://localhost:8080/"
        },
        "outputId": "f4c0cf38-3adc-4142-bb2c-645e7dfccda1"
      },
      "source": [
        "test_len2 = 0\n",
        "test_row2 = []\n",
        "test_col2 = []\n",
        "test_data2 = []\n",
        "\n",
        "i = 0\n",
        "for tour in tqdm(test_new):\n",
        "    for team in tour[1]:\n",
        "        for player in team[0]:\n",
        "            test_row2.append(i)\n",
        "            test_col2.append(player)\n",
        "            test_data2.append(1)\n",
        "        test_len2 += 1\n",
        "        i += 1\n",
        "\n",
        "test_row2 = np.array(test_row2)\n",
        "test_col2 = np.array(test_col2)\n",
        "test_data2 = np.array(test_data2, dtype=np.int8)"
      ],
      "execution_count": 22,
      "outputs": [
        {
          "output_type": "stream",
          "text": [
            "100%|██████████| 165/165 [00:00<00:00, 3126.26it/s]\n"
          ],
          "name": "stderr"
        }
      ]
    },
    {
      "cell_type": "code",
      "metadata": {
        "id": "q3TRu-jf0NFF"
      },
      "source": [
        "X_train2 = csr_matrix((train_data2, (train_row2, train_col2)), shape=(train_len2, max(players.keys())), dtype=np.int8)\n",
        "y_train2 = np.array(y_train2)\n",
        "X_test2 = csr_matrix((test_data2, (test_row2, test_col2)), shape=(test_len2, max(players.keys())), dtype=np.int8)"
      ],
      "execution_count": 23,
      "outputs": []
    },
    {
      "cell_type": "code",
      "metadata": {
        "id": "a9jDEgIn0NFG",
        "colab": {
          "base_uri": "https://localhost:8080/"
        },
        "outputId": "ade8f5cb-550d-4997-ed30-f71210b22b69"
      },
      "source": [
        "%%time\n",
        "\n",
        "#linear_reg = LinearRegression().fit(X_train, y_train)\n",
        "linear_reg = Ridge(alpha=20).fit(X_train2, y_train2)"
      ],
      "execution_count": 24,
      "outputs": [
        {
          "output_type": "stream",
          "text": [
            "CPU times: user 351 ms, sys: 336 ms, total: 687 ms\n",
            "Wall time: 381 ms\n"
          ],
          "name": "stdout"
        }
      ]
    },
    {
      "cell_type": "markdown",
      "metadata": {
        "id": "m-FNqj3Z0NFH"
      },
      "source": [
        "Теперь предскажем эффективность каждой команды в тесте и отранжируем команды по реальным данным и по предсказанным. Воспользуемся ранговыми корреляциями Спирмена и Кендалла для получения метрики качества."
      ]
    },
    {
      "cell_type": "code",
      "metadata": {
        "id": "S2S9GFDg0NFI"
      },
      "source": [
        "y_pred = linear_reg.predict(X_test2)"
      ],
      "execution_count": 25,
      "outputs": []
    },
    {
      "cell_type": "code",
      "metadata": {
        "id": "8VVVCTkp0NFI"
      },
      "source": [
        "spearman_scores = []\n",
        "kendall_scores = []\n",
        "\n",
        "j = 0\n",
        "for tour in test_new:\n",
        "    real_ranks = []\n",
        "    pred_ranks = []\n",
        "    for i, team in enumerate(tour[1]):\n",
        "        real_ranks.append((i, sum(team[1]) / len(team[1])))\n",
        "        pred_ranks.append((i, y_pred[j]))\n",
        "        j += 1\n",
        "    real_ranks = [k for k, v in sorted(real_ranks, key=lambda x: x[1], reverse=True)]\n",
        "    pred_ranks = [k for k, v in sorted(pred_ranks, key=lambda x: x[1], reverse=True)]\n",
        "    \n",
        "    spearman_sc = sp.stats.spearmanr(real_ranks, pred_ranks)[0]\n",
        "    kendall_sc = sp.stats.kendalltau(real_ranks, pred_ranks)[0]\n",
        "    if not np.isnan(spearman_sc):\n",
        "        spearman_scores.append(spearman_sc)\n",
        "    if not np.isnan(kendall_sc):\n",
        "        kendall_scores.append(kendall_sc)"
      ],
      "execution_count": 26,
      "outputs": []
    },
    {
      "cell_type": "code",
      "metadata": {
        "id": "CbIT3G720NFI",
        "colab": {
          "base_uri": "https://localhost:8080/"
        },
        "outputId": "e45c6bb7-3a67-4460-d23a-a6a1f020b815"
      },
      "source": [
        "print(f'Spearman average score is {sum(spearman_scores)/len(spearman_scores)}')\n",
        "print(f'Kendall average score is {sum(kendall_scores)/len(kendall_scores)}')"
      ],
      "execution_count": 27,
      "outputs": [
        {
          "output_type": "stream",
          "text": [
            "Spearman average score is 0.7121346799255368\n",
            "Kendall average score is 0.544186349525721\n"
          ],
          "name": "stdout"
        }
      ]
    },
    {
      "cell_type": "markdown",
      "metadata": {
        "id": "lrDOGTZe0NFJ"
      },
      "source": [
        "Первый способ имеет более высокие показатели, а также позволяет сравнивать не только команды, но и игроков, поэтому далее будем опираться именно на подход с логистической регрессией."
      ]
    },
    {
      "cell_type": "markdown",
      "metadata": {
        "id": "bhbgYjwz0NFJ"
      },
      "source": [
        "# 4.\n",
        "\n",
        "Добавим скрытую переменную $z_{ij}$ - игрок i правильно ответил на вопрос j. Теперь, если мы знаем эту переменную, то без труда можем ранжировать команды на турнирах. Заметим, что если команда правильно ответила на вопрос, то хотя бы для одного игрока этой команды $z = 1$, а если команда не ответила на вопрос, то $z = 0$ для всех игроков команды. То есть теперь мы хотим показать, что заслуга ответа на вопрос лежит не на одном игроке, а распределяется по членам команды с какими-то коэффициентами. \n",
        "\n",
        "Обучать будем те же параметры, только теперь при помощи ЕМ-алгоритма\n",
        "\n",
        "$ p(z_{ij}) = \\sigma(X * w)_{f(i, j)} = \\sigma(skill_i + difficulty_j) $\n",
        "\n",
        "* __Е-step__:\n",
        "\n",
        "Фиксируем $skill_i$ и $difficulty_j$ и вычисляем скрытые переменные\n",
        "\n",
        "$$ \\mathbb{E} [z_{ij}] = \\begin{cases}\n",
        "0, & x_{ij} = 0 \\\\ \n",
        "\\frac{\\sigma(skill_i + difficulty_j)}{p_{\\text{team response}}} =  \n",
        "\\frac{\\sigma(skill_i + difficulty_j)}{1 - \\prod_k(1 - \\sigma(skill_k + difficulty_j))}, & x_{ij} = 1\n",
        "\\end{cases} $$\n",
        "\n",
        "\n",
        "* __M-step__:\n",
        "\n",
        "Фиксируем $z_{ij}$ и пересчитываем $skill_i$ и $difficulty_j$\n",
        "\n",
        "$$ \\mathbb{E} [z_{ij}] = \\sigma(skill_i + difficulty_j) $$\n",
        "$$ X * (skill_i, difficulty_j) = \\sigma^{-1}(\\mathop{\\mathbb{E}} [z_{ij}]) $$\n",
        "\n",
        "Обучая линейную регрессию, выражаем искомые веса\n",
        "\n",
        "$$ (skill_i, difficulty_j) = (X^TX)^{-1}X^T \\sigma^{-1}(\\mathbb{E} [z_{ij}]) $$\n",
        "\n",
        "\n",
        "Проделаем несколько шагов и посмотрим на результаты"
      ]
    },
    {
      "cell_type": "code",
      "metadata": {
        "id": "5Ehe8Yji0NFJ"
      },
      "source": [
        "def sigmoid(skill, difficulty):\n",
        "    return 1 / (1 + np.exp(-(skill + difficulty)))\n",
        "\n",
        "\n",
        "def e_step(w):\n",
        "    print('E-step running...')\n",
        "    y = X_train @ w\n",
        "    y = 1 / (1 + np.exp(-y))\n",
        "\n",
        "    labels = []\n",
        "    n_questions = 0\n",
        "    i = 0\n",
        "    for tour in train_new:\n",
        "        n_questions += len(tour[1][0][1])\n",
        "        for team in tour[1]:\n",
        "            fix = i\n",
        "            num_q = len(team[1])\n",
        "            n_players = len(team[0])\n",
        "            for l in range(n_players):\n",
        "                for j in range(num_q):\n",
        "                    if y_train[i] == 0:\n",
        "                        labels.append(1e-4)\n",
        "                        i += 1\n",
        "                        continue\n",
        "                    p_not_resp = 1\n",
        "                    for k in range(n_players):\n",
        "                        p_not_resp *= (1 - y[fix + num_q * k + j])\n",
        "                    p_resp = 1 - p_not_resp\n",
        "                    p_resp_by_player = y[i] / p_resp\n",
        "                    if p_resp_by_player < 1e-4:\n",
        "                        labels.append(1e-4)\n",
        "                    elif p_resp_by_player > 1 - 1e-4:\n",
        "                        labels.append(1 - 1e-4)\n",
        "                    else:\n",
        "                        labels.append(p_resp_by_player)\n",
        "                    i += 1\n",
        "    return np.array(labels).astype(np.float32)\n",
        "\n",
        "\n",
        "def m_step(labels):\n",
        "    print('M-step running...')\n",
        "    y = - np.log(1 / labels - 1)\n",
        "    lin_reg = LinearRegression().fit(X_train, y)\n",
        "    return lin_reg.coef_[:ohe.categories_[0].shape[0]], lin_reg.coef_[ohe.categories_[0].shape[0]:]\n",
        "\n",
        "\n",
        "def check_metrics(skill_weights, difficulty_weights):\n",
        "    players_skill = MinMaxScaler().fit_transform(skill_weights.reshape(skill_weights.shape[0], 1))\n",
        "    question_difficulty = MinMaxScaler().fit_transform(difficulty_weights.reshape(difficulty_weights.shape[0], 1))\n",
        "\n",
        "    players_skill = np.concatenate((ohe.categories_[0].reshape(ohe.categories_[0].shape[0], 1), players_skill), axis=1)\n",
        "    question_difficulty = np.concatenate((ohe.categories_[1].reshape(ohe.categories_[1].shape[0], 1), question_difficulty), axis=1)\n",
        "    \n",
        "    players_skill_dict = dict(players_skill)\n",
        "    question_difficulty_dict = dict(question_difficulty)\n",
        "    \n",
        "    return players_skill_dict, question_difficulty_dict"
      ],
      "execution_count": 31,
      "outputs": []
    },
    {
      "cell_type": "code",
      "metadata": {
        "colab": {
          "base_uri": "https://localhost:8080/"
        },
        "id": "0aG3tujj0NFK",
        "outputId": "05f6b722-576d-457e-8061-f2317f18743c"
      },
      "source": [
        "e_labels = np.zeros(X_train.shape[1])\n",
        "\n",
        "NUM_ITERS = 5\n",
        "for i in range(NUM_ITERS):\n",
        "    print(f'ITERATION {i + 1}')\n",
        "    m_labels = e_step(e_labels)\n",
        "    skill_weights, difficulty_weights = m_step(m_labels)\n",
        "    players_skill_dict, question_difficulty_dict = check_metrics(skill_weights, difficulty_weights)\n",
        "    find_scores(players_skill_dict)\n",
        "    e_labels = np.concatenate((skill_weights, difficulty_weights)).reshape(skill_weights.shape[0] + difficulty_weights.shape[0], 1)\n",
        "    print('\\n')"
      ],
      "execution_count": 32,
      "outputs": [
        {
          "output_type": "stream",
          "text": [
            "ITERATION 1\n",
            "E-step running...\n",
            "M-step running...\n",
            "Spearman average score is 0.779876896223343\n",
            "Kendall average score is 0.61457860546081\n",
            "\n",
            "\n",
            "ITERATION 2\n",
            "E-step running...\n",
            "M-step running...\n",
            "Spearman average score is 0.7796432575644021\n",
            "Kendall average score is 0.6141478287458371\n",
            "\n",
            "\n",
            "ITERATION 3\n",
            "E-step running...\n",
            "M-step running...\n",
            "Spearman average score is 0.7818775824016162\n",
            "Kendall average score is 0.6172996168443919\n",
            "\n",
            "\n",
            "ITERATION 4\n",
            "E-step running...\n",
            "M-step running...\n",
            "Spearman average score is 0.7791989478128362\n",
            "Kendall average score is 0.613343263498367\n",
            "\n",
            "\n",
            "ITERATION 5\n",
            "E-step running...\n",
            "M-step running...\n",
            "Spearman average score is 0.7791373205012777\n",
            "Kendall average score is 0.613401670309775\n",
            "\n",
            "\n"
          ],
          "name": "stdout"
        }
      ]
    },
    {
      "cell_type": "markdown",
      "metadata": {
        "id": "w9M7fC06pQjg"
      },
      "source": [
        "ЕМ-алгоритм работает - видим неплохие результаты уже с 1-ой итерации, далее улучшение незначительно. При этом получилось получить результаты выше, чем у baseline моделей\n",
        "\n",
        "Посмотрим на новый рейтинг игроков:"
      ]
    },
    {
      "cell_type": "code",
      "metadata": {
        "colab": {
          "base_uri": "https://localhost:8080/"
        },
        "id": "fG3XfYcBp2O1",
        "outputId": "62d95a27-7957-4f42-afb8-ae7f8f7c46a6"
      },
      "source": [
        "print('\\n'.join([' '.join([str(i + 1), ' ', players[int(k)]['surname'], players[int(k)]['name'], players[int(k)]['patronymic'], '\\t\\t', str(v)]) \\\n",
        "                         for i, (k, v) in enumerate(sorted(players_skill_dict.items(), key=lambda x: x[1], reverse=True)[:20])]))"
      ],
      "execution_count": 36,
      "outputs": [
        {
          "output_type": "stream",
          "text": [
            "1   Руссо Максим Михайлович \t\t 1.0\n",
            "2   Пилипенко Максим Игоревич \t\t 0.9940174240034658\n",
            "3   Брутер Александра Владимировна \t\t 0.9828114873340144\n",
            "4   Калинина Анастасия Борисовна \t\t 0.9815661831759654\n",
            "5   Семушин Иван Николаевич \t\t 0.9808052427184137\n",
            "6   Кудинов Дмитрий Сергеевич \t\t 0.9728985571996136\n",
            "7   Савченков Михаил Владимирович \t\t 0.9709341822468343\n",
            "8   Сорожкин Артём Сергеевич \t\t 0.9577424403456023\n",
            "9   Спешков Сергей Леонидович \t\t 0.9547437990870373\n",
            "10   Мереминский Станислав Григорьевич \t\t 0.9465186300292407\n",
            "11   Левандовский Михаил Ильич \t\t 0.932672346120171\n",
            "12   Спектор Евгений Павлович \t\t 0.9292688344351568\n",
            "13   Прокофьева Ирина Сергеевна \t\t 0.9289473788660352\n",
            "14   Мосягин Александр Владимирович \t\t 0.9280243546043212\n",
            "15   Новиков Илья Сергеевич \t\t 0.9251997729216996\n",
            "16   Плохих Владислава Вадимовна \t\t 0.9248714916982497\n",
            "17   Завьялов Сергей Андреевич \t\t 0.9247928390957851\n",
            "18   Бровер Сусанна Марковна \t\t 0.9230312883532008\n",
            "19   Гилёв Алексей Владимирович \t\t 0.9223854385174055\n",
            "20   Либер Александр Витальевич \t\t 0.9206695895442636\n"
          ],
          "name": "stdout"
        }
      ]
    },
    {
      "cell_type": "markdown",
      "metadata": {
        "id": "4UxQBA8TpMtb"
      },
      "source": [
        "# 5.\n",
        "\n",
        "Теперь попробуем по полученным результатам построить рейтинг-лист турниров по сложности."
      ]
    },
    {
      "cell_type": "code",
      "metadata": {
        "id": "GTE6Apnnu-6B"
      },
      "source": [
        "tournament_rating = dict()\n",
        "\n",
        "n_questions = 0\n",
        "for tour in train_new:\n",
        "    num_q = len(tour[1][0][1])\n",
        "    for i in range(n_questions, n_questions + num_q):\n",
        "        tournament_rating[tour[0]] = question_difficulty_dict[i]\n",
        "    n_questions += num_q"
      ],
      "execution_count": 44,
      "outputs": []
    },
    {
      "cell_type": "code",
      "metadata": {
        "colab": {
          "base_uri": "https://localhost:8080/"
        },
        "id": "XixV6yyfu-82",
        "outputId": "e3e68eec-6cbc-4afe-9efb-af47204d8bdf"
      },
      "source": [
        "print('\\n'.join([' '.join([str(i + 1), ' ', tournaments[k]['name'], '\\t\\t', str(v)]) \\\n",
        "                         for i, (k, v) in enumerate(sorted(tournament_rating.items(), key=lambda x: x[1], reverse=False)[:20])]))"
      ],
      "execution_count": 51,
      "outputs": [
        {
          "output_type": "stream",
          "text": [
            "1   Чемпионат Мира. Этап 2. Группа А \t\t 0.08327803488121244\n",
            "2   Мемориал Дмитрия Коноваленко \t\t 0.09990696379904684\n",
            "3   Знание – Сила VI \t\t 0.11014432463003054\n",
            "4   Чемпионат России \t\t 0.11226936501705642\n",
            "5   Чемпионат МГУ. Высшая лига. Четвёртый игровой день \t\t 0.11938801626102596\n",
            "6   Кубок Москвы \t\t 0.1255282032719472\n",
            "7   Синхрон Беловежской Зимы. День второй. \t\t 0.12613770525182672\n",
            "8   Чемпионат Мира. Этап 2. Группа В \t\t 0.1290709864449297\n",
            "9   Чемпионат Санкт-Петербурга. Первая лига \t\t 0.1320491054687335\n",
            "10   Игра Первопрестольной. Четвёртый сезон \t\t 0.13427787962058185\n",
            "11   Синхронный Кубок Хайфы \t\t 0.1382461633995618\n",
            "12   Львов зимой. Барон \t\t 0.13841239065259497\n",
            "13   Антибинго \t\t 0.14131581689563927\n",
            "14   Кубок Кайнозоя \t\t 0.1429891165156124\n",
            "15   Линч \t\t 0.14402999866778476\n",
            "16   Открытый Кубок Зеленограда \t\t 0.1458948417285218\n",
            "17   Ревельская весна \t\t 0.1473054869682282\n",
            "18   Зеркало Симбирск-Open \t\t 0.14760802219315894\n",
            "19   Синхрон Беловежской Зимы. День первый. \t\t 0.14911076653024152\n",
            "20   VERSUS: Ершов vs. Рух \t\t 0.15016700064477034\n"
          ],
          "name": "stdout"
        }
      ]
    },
    {
      "cell_type": "markdown",
      "metadata": {
        "id": "Tbwrv1KvtD3X"
      },
      "source": [
        "Список практически соответствует интуиции, но теперь видим, что мы на самом деле оценивали не сложность вопроса, а наоборот его легкость."
      ]
    }
  ]
}